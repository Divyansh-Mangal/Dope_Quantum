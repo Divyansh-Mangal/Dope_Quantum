{
 "cells": [
  {
   "cell_type": "markdown",
   "id": "8f957af4",
   "metadata": {},
   "source": [
    "# Cryptography and how we learned to keep secrets"
   ]
  },
  {
   "cell_type": "code",
   "execution_count": 76,
   "id": "535c96c7",
   "metadata": {},
   "outputs": [],
   "source": [
    "import math\n",
    "\n",
    "import matplotlib.pyplot as plt"
   ]
  },
  {
   "cell_type": "markdown",
   "id": "86594926",
   "metadata": {},
   "source": [
    "That humans are a deeply tribal species should come as no surprise to anyone but what that entails for evolution of memetics is anything but fascinating. Secrecy has evolved as just another memetic notion so much so that its an anciant art now, as information is prime advantage in this ongoing war of one-uping against the other.\n",
    "Hence, the field of cryptography evolved and so did the art of cracking cryptographic systems and here we are in an arms race, in which paranoia is oddly an advantage.\n",
    "\n",
    "So we created ways to communicate such the (eve) aka 'eve' does not know what transmitter aka 'Alice' has to tell the receiver aka 'Bob' of information, which succesfully communicating the message."
   ]
  },
  {
   "cell_type": "markdown",
   "id": "14253529",
   "metadata": {},
   "source": [
    "A message usually is a string of symbols (derived from a finite set called 'Alphabets' constituting that language). First we agree upon the ordering of the symbols in the alphabet and then assign them numerical values. This way we mathematize the situation (because smart ones have too much time on their hands).\n",
    "\n",
    "**Private Key Cryptography - **\n",
    "\n",
    "Now, a basic way to make your message obscure is to shuffle the order of the symbols such that only Alice and bob know the ordering but Eve doesn't. That way, Alice can write her message in the new ordering (aka 'Encrypt' the message) and send to Bob so that he will use the same ordering to unshuffle (aka 'Decrypt') the encrypted message and recreate the original message. If eve happens upon the messsage on the way, since the message is shuffled (deviated from the generally accepted ordering), she can't make anything of it (*potentially, as she might be able to recreate the key depending on the encryption scheme used*). Hence, cryptography is successfully done by sharing a key (Shuffling method/order) and then the message (Encrypt-Decrypt). Now, we can see a few shuffling/encryption schemes, historic and recent -"
   ]
  },
  {
   "cell_type": "markdown",
   "id": "27fc583a",
   "metadata": {},
   "source": [
    "1) **Ceasar Cipher** - This cryptographic scheme was used in the Roman times. In this schema, they shifted all their symbols in the Latin Alphabets by a certain amount and used this ordering to shuffle their message. Since bob also knows by how much this shift is done ('key'), he can unshuffle the encrypted message by reversing the shift. This is an easy to implement scheme -"
   ]
  },
  {
   "cell_type": "code",
   "execution_count": 230,
   "id": "8e1e4851",
   "metadata": {},
   "outputs": [
    {
     "name": "stdout",
     "output_type": "stream",
     "text": [
      "Original message - \n",
      "The Council of Elrond by Elrond in Rivendell on October 25, 3018 of the Third Age, in order to determine the fate of the One Ring. You are cordially invited.\n",
      "\n",
      "Encrypted Message - Wkh#Frxqflo#ri#Hourqg#e|#Hourqg#lq#Ulyhqghoo#rq#Rfwrehu#58/#634;#ri#wkh#Wklug#Djh/#lq#rughu#wr#ghwhuplqh#wkh#idwh#ri#wkh#Rqh#Ulqj1#\\rx#duh#frugldoo|#lqylwhg1 \n",
      "\n",
      "Decrypted Message - The Council of Elrond by Elrond in Rivendell on October 25, 3018 of the Third Age, in order to determine the fate of the One Ring. You are cordially invited.\n"
     ]
    }
   ],
   "source": [
    "# Ceasar Cipher Encoding Decoding code -\n",
    "def Ceasar_Cipher(message, key):\n",
    "    ceasar_encryption = ''\n",
    "    for m in message:\n",
    "        ceasar_encryption+=chr(ord(m)+key)\n",
    "    return ceasar_encryption\n",
    "\n",
    "def Decrypting_Ceasar_Cipher(enc_message, key):\n",
    "    dec_ceasar = ''\n",
    "    for m in enc_message:\n",
    "        dec_ceasar+=chr(ord(m)-key)\n",
    "    return dec_ceasar\n",
    "\n",
    "sample_message = \"The Council of Elrond by Elrond in Rivendell on October 25, 3018 of the Third Age, in order to determine the fate of the One Ring. You are cordially invited.\"\n",
    "\n",
    "message = ''\n",
    "message = sample_message\n",
    "\n",
    "alice_key = 3\n",
    "Encrypted_Ceasar_message = Ceasar_Cipher(message,alice_key)\n",
    "\n",
    "bob_key = alice_key\n",
    "Decrypted_Ceasar_message = Decrypting_Ceasar_Cipher(Encrypted_Ceasar_message,bob_key)\n",
    "\n",
    "print(f\"Original message - \\n{message}\\n\\nEncrypted Message - {Encrypted_Ceasar_message} \\n\\nDecrypted Message - {Decrypted_Ceasar_message}\")"
   ]
  },
  {
   "cell_type": "code",
   "execution_count": 231,
   "id": "a8792b87",
   "metadata": {},
   "outputs": [],
   "source": [
    "# Breaking the Ceasar Cipher - "
   ]
  },
  {
   "cell_type": "markdown",
   "id": "6d9446cb",
   "metadata": {},
   "source": [
    "But it is flawed because the usage of symbols in commonly used language is not uniform and has a very predictable frequency of occurence (Check out [Zipf's law](https://en.wikipedia.org/wiki/Zipf%27s_law), [The mystery of Zipf's Law](https://www.youtube.com/watch?v=fCn8zs912OE)).\n",
    "Hence, by seeing the the frequency of the most used symbols in the encrypted message, the shift can be figured out by Eve without having previous knowledge of the key. Hence, this cryptographic schema is unsafe and not recommendable. See the code for this cipher in practice. "
   ]
  },
  {
   "cell_type": "markdown",
   "id": "7179df8f",
   "metadata": {},
   "source": [
    "2) **Enigma Cipher** - The famed Encryption used by the Axis forces and even more famously broken by Alan Turing (Chronicalled in the movie 'The Imitatation Game'). See the code below as a simulation of Enigma Machine and the breaking of it. "
   ]
  },
  {
   "cell_type": "code",
   "execution_count": null,
   "id": "6a2edafa",
   "metadata": {},
   "outputs": [],
   "source": []
  },
  {
   "cell_type": "markdown",
   "id": "a4f398c9",
   "metadata": {},
   "source": [
    "**Public Key Cryptography -**\n",
    "\n",
    "Okay, we have seen some of the private key cryptography systems but it must have occured to you that Alice and Bob still have to exchange the keys in advance. This makes it very hard to send message safely without first having to establish the key. This only kicks the bucket down the road. This perpetual problem is solved by making the key distribution using encryption schemes that are very hard to decrypt, even though, in principle possible to crack. The main priinciple to rely upon is the complexity of reversibility of a function to be reversed with/without possesion of parts of the key. \n",
    "\n",
    "**One time pad** - The unbreakable cryptographic schema - \n",
    "It is is an encryption technique that cannot be cracked, but requires the use of a single-use pre-shared key that is not smaller than the message being sent. In this technique, a plaintext is paired with a random secret key (also referred to as a one-time pad). Then, each bit or character of the plaintext is encrypted by combining it with the corresponding bit or character from the pad using modular addition. \n",
    "\n",
    "For key distribution, there have been many ways presented.\n",
    "One such way is the RSA scheme(stands for Rivest, Shamir and Adlemann, the discoverers of this scheme) which is widely used for internet communication for things like Bank transactions etc. Another is the Diffie-Helman-Merkle Scheme. We will mostly discuss RSA and its breaking."
   ]
  },
  {
   "cell_type": "markdown",
   "id": "aaefde2a",
   "metadata": {},
   "source": [
    "**RSA**\n",
    "\n",
    "So, here is the scenario - <br> \n",
    "If bob wants to receive a communication, he can just announce parts of his key. Hence, he generates these Private and Public keys.  \n",
    "\n",
    "Let's see how we generate key using RSA - <br><br>\n",
    "1) Take two prime numbers p,q, such that n=p.q <br>\n",
    "2) Calculate $$\\phi(n) = (p-1)(q-1)$$Its called \"Euclid's Totient Function\" <br>\n",
    "3) Consider a number 'e' that is relative prime to $\\phi(n)$.<br>\n",
    "4) Calculate the Modular Multiplicative Inverse $$d = e^{-1} mod \\phi(n)$$ using the \"Extended Euclidean Algorithm\". <br>\n",
    "5) The RSA Key is ready. The private key is $$S = (n,d)$$ and the Public Key is $$P = (n,e)$$<br><br>\n",
    "\n",
    "  "
   ]
  },
  {
   "cell_type": "markdown",
   "id": "9200b836",
   "metadata": {},
   "source": [
    "## Prime number selection given bit size - \n",
    "\n",
    "Read this for complete theory behind generating Prime Numbers of a given bit size - \n",
    "\n",
    "[https://medium.com/@ntnprdhmm/how-to-generate-big-prime-numbers-miller-rabin-49e6e6af32fb#:~:text=The%20prime%20number%20theorem%20states,ln(n))%20%3D%201.&text=As%20we%20know%20that%20primes,test%20355%20numbers%20randomly%20generated.]\n",
    "\n",
    "Summary - \n",
    "* Direct method of checking primality is too slow for large prime numbers.\n",
    "* Using Fermat's little theorem is faster but not quite reliable if applied naively.\n",
    "* Using Miller Rabin theorem makes it more reliable.'\n",
    "\n",
    "See the code below -"
   ]
  },
  {
   "cell_type": "code",
   "execution_count": 148,
   "id": "9c409323",
   "metadata": {},
   "outputs": [
    {
     "name": "stdout",
     "output_type": "stream",
     "text": [
      "271820310010468684569733899967818152443\n"
     ]
    }
   ],
   "source": [
    "from random import randrange, getrandbits\n",
    "\n",
    "def is_prime(n, k=128):\n",
    "    \"\"\" Test if a number is prime\n",
    "        Args:\n",
    "            n -- int -- the number to test\n",
    "            k -- int -- the number of tests to do\n",
    "        return True if n is prime\n",
    "    \"\"\"\n",
    "    # Test if n is not even.\n",
    "    # But care, 2 is prime !\n",
    "    if n == 2 or n == 3:\n",
    "        return True\n",
    "    if n <= 1 or n % 2 == 0:\n",
    "        return False\n",
    "    # find r and s\n",
    "    s = 0\n",
    "    r = n - 1\n",
    "    while r & 1 == 0:\n",
    "        s += 1\n",
    "        r //= 2\n",
    "    # do k tests\n",
    "    for _ in range(k):\n",
    "        a = randrange(2, n - 1)\n",
    "        x = pow(a, r, n)\n",
    "        if x != 1 and x != n - 1:\n",
    "            j = 1\n",
    "            while j < s and x != n - 1:\n",
    "                x = pow(x, 2, n)\n",
    "                if x == 1:\n",
    "                    return False\n",
    "                j += 1\n",
    "            if x != n - 1:\n",
    "                return False\n",
    "    return True\n",
    "\n",
    "def generate_prime_candidate(length):\n",
    "    \"\"\" Generate an odd integer randomly\n",
    "        Args:\n",
    "            length -- int -- the length of the number to generate, in bits\n",
    "        return a integer\n",
    "    \"\"\"\n",
    "    # generate random bits\n",
    "    p = getrandbits(length)\n",
    "    # apply a mask to set MSB and LSB to 1\n",
    "    p |= (1 << length - 1) | 1\n",
    "    return p\n",
    "\n",
    "def generate_prime_number(length=1024):\n",
    "    \"\"\" Generate a prime\n",
    "        Args:\n",
    "            length -- int -- length of the prime to generate, in          bits\n",
    "        return a prime\n",
    "    \"\"\"\n",
    "    p = 4\n",
    "    # keep generating while the primality test fail\n",
    "    while not is_prime(p, 128):\n",
    "        p = generate_prime_candidate(length)\n",
    "    return p\n",
    "# print(generate_prime_number(128))"
   ]
  },
  {
   "cell_type": "code",
   "execution_count": 11,
   "id": "20959fb0",
   "metadata": {},
   "outputs": [
    {
     "name": "stdout",
     "output_type": "stream",
     "text": [
      "Modular multiplicative inverse is 4\n"
     ]
    }
   ],
   "source": [
    "# Calculate Modular Multiplicative inverse - Extended Euclidean Algorithm\n",
    "\n",
    "# Iterative Python 3 program to find\n",
    "# modular inverse using extended\n",
    "# Euclid algorithm\n",
    "\n",
    "# Returns modulo inverse of a with\n",
    "# respect to m using extended Euclid\n",
    "# Algorithm Assumption: a and m are\n",
    "# coprimes, i.e., gcd(A, M) = 1\n",
    "\n",
    "\n",
    "def modInverse(A, M):\n",
    "    m0 = M\n",
    "    y = 0\n",
    "    x = 1\n",
    "\n",
    "    if (M == 1):\n",
    "        return 0\n",
    "\n",
    "    while (A > 1):\n",
    "\n",
    "        # q is quotient\n",
    "        q = A // M\n",
    "        \n",
    "        t = M\n",
    "\n",
    "        # m is remainder now, process\n",
    "        # same as Euclid's algo\n",
    "        M = A % M\n",
    "        A = t\n",
    "        t = y\n",
    "\n",
    "        # Update x and y\n",
    "        y = x - q * y\n",
    "        x = t\n",
    "\n",
    "    # Make x positive\n",
    "    if (x < 0):\n",
    "        x = x + m0\n",
    "\n",
    "    return x\n",
    "\n",
    "\n",
    "# Driver code\n",
    "if __name__ == \"__main__\":\n",
    "    A = 3\n",
    "    M = 11\n",
    "\n",
    "    # Function call\n",
    "    print(\"Modular multiplicative inverse is\",modInverse(A, M))"
   ]
  },
  {
   "cell_type": "code",
   "execution_count": 172,
   "id": "fc6bb020",
   "metadata": {},
   "outputs": [
    {
     "name": "stdout",
     "output_type": "stream",
     "text": [
      "p = 110924523894439291587048420569728763795624892554688385827714217785669926456731\n",
      "q = 63786787644108910066932976523232478704858556319521097071443654436029187171853\n",
      "\n",
      "\n",
      "n = p*q = 7075519050178483762234705280550880818091104172483366769349965825193305723063814532486855088786856879351729050756147679161476156963905287472942479065592543\n",
      "\n",
      "\n",
      "Eulers Totient function (phi) = (p-1)*(q-1) = 7075519050178483762234705280550880818091104172483366769349965825193305723063639821175316540585202897954636089513647195712601947481006129600720779951963960\n",
      "\n",
      "\n",
      "Generated e (relative co-prime to phi) = 14140857679592861771 \n",
      "\n",
      "\n",
      "Generated d (Modular inverse of e (mod phi)) = 6193364042797054726333389129441554578568746814606237663956645136673009734987720542825224522068135145739403601985524326836818742568414889328091050578091811 \n",
      "\n",
      "\n",
      "Public key = (n,e) = (7075519050178483762234705280550880818091104172483366769349965825193305723063814532486855088786856879351729050756147679161476156963905287472942479065592543,14140857679592861771),\n",
      "Private key = (n,d) = (7075519050178483762234705280550880818091104172483366769349965825193305723063814532486855088786856879351729050756147679161476156963905287472942479065592543,6193364042797054726333389129441554578568746814606237663956645136673009734987720542825224522068135145739403601985524326836818742568414889328091050578091811) \n",
      "\n",
      "\n"
     ]
    }
   ],
   "source": [
    "#code for generating the RSA key -\n",
    "\n",
    "def generate_RSA_key(bitsize):\n",
    "    p = 0\n",
    "    q = 0\n",
    "    while p==q:\n",
    "        p = generate_prime_number(bitsize)\n",
    "        q = generate_prime_number(bitsize)\n",
    "    print(f'p = {p}\\nq = {q}\\n\\n')\n",
    "    \n",
    "    n = p*q\n",
    "    print(f'n = p*q = {n}\\n\\n')\n",
    "    \n",
    "    # Totient function -\n",
    "    phi = (p-1)*(q-1)\n",
    "    print(f'Eulers Totient function (phi) = (p-1)*(q-1) = {phi}\\n\\n')\n",
    "    \n",
    "    # generate e\n",
    "    e = generate_prime_number(int(bitsize/4))\n",
    "    print(f'Generated e (relative co-prime to phi) = {e} \\n\\n')\n",
    "    \n",
    "    # Calculate Modular Multiplicative inverse - Extended Euclidean Algorithm\n",
    "    d = modInverse(e, phi)\n",
    "    print(f'Generated d (Modular inverse of e (mod phi)) = {d} \\n\\n')\n",
    "    \n",
    "    Public = (n,e)\n",
    "    Secret = (n,d)\n",
    "    print(f'Public key = (n,e) = ({n},{e}),\\nPrivate key = (n,d) = ({n},{d}) \\n\\n')\n",
    "    \n",
    "    # return RSA Key\n",
    "    return Public,Secret\n",
    "\n",
    "\n",
    "Public_key, Private_key = generate_RSA_key(256)"
   ]
  },
  {
   "cell_type": "markdown",
   "id": "884e024e",
   "metadata": {},
   "source": [
    "Now that (receiver) has generated the private and public keys, He/She then broadcasts the Public Key. When (transmitter) wants to send a message to (receiver), he/she will use the Public Key to encrypt his\\her message and sends it to (reciever).\n",
    "\n",
    "But How does (transmitter) does the encoding? He/She encrypts the message (m) by - \n",
    "$$E(m) = m^e mod  (n)$$ \n",
    "It can be efficiently (O(logN)) calculated using \"Repeated Squaring\". Therefore encryption is done efficiently in RSA."
   ]
  },
  {
   "cell_type": "code",
   "execution_count": 155,
   "id": "ffbaebc6",
   "metadata": {},
   "outputs": [],
   "source": [
    "def Modular_exponentiation(b,p,m):\n",
    "    res = 1 % m\n",
    "    x = b % m\n",
    "    while p: \n",
    "        if (p & 1):\n",
    "            res = ( res * x ) % m\n",
    "        x = ( x * x ) % m\n",
    "        p = p >> 1\n",
    "    return res"
   ]
  },
  {
   "cell_type": "code",
   "execution_count": 191,
   "id": "b63053ef",
   "metadata": {},
   "outputs": [
    {
     "data": {
      "text/plain": [
       "413"
      ]
     },
     "execution_count": 191,
     "metadata": {},
     "output_type": "execute_result"
    }
   ],
   "source": [
    "def convert_message(msg):\n",
    "    msg_num = ''\n",
    "    for m in msg:\n",
    "        msg_num = msg_num+str(ord(m))\n",
    "    return len(msg_num)\n",
    "    \n",
    "convert_message(\"The Council of Elrond by Elrond in Rivendell on October 25, 3018 of the Third Age, in order to determine the fate of the One Ring. You are cordially invited.\")"
   ]
  },
  {
   "cell_type": "code",
   "execution_count": 180,
   "id": "fd256f97",
   "metadata": {},
   "outputs": [],
   "source": [
    "# Alices's Encryption of the message -\n",
    "\n",
    "def Encrypting_message(message,Public_key):\n",
    "    p = Public_key[1]\n",
    "    m = Public_key[0]\n",
    "    b = message\n",
    "    if b>=m:\n",
    "        raise ValueError(\"Message bigger than key\")\n",
    "    \n",
    "    return Modular_exponentiation(b,p,m)"
   ]
  },
  {
   "cell_type": "code",
   "execution_count": 199,
   "id": "0491d139",
   "metadata": {},
   "outputs": [],
   "source": [
    "sample_message = \"The Council of Elrond by Elrond in Rivendell on October 25, 3018 of the Third Age, in order to determine the fate of the One Ring. You are cordially invited.\"\n",
    "\n",
    "message = sample_message"
   ]
  },
  {
   "cell_type": "code",
   "execution_count": 200,
   "id": "99b7d017",
   "metadata": {},
   "outputs": [
    {
     "name": "stdout",
     "output_type": "stream",
     "text": [
      "Encrypted message = 6024778523011705996295180595336499144819236561742670292619304214257812345861663544185166409389966005773971183776371359122826428940827726748791818242712646\n"
     ]
    }
   ],
   "source": [
    "message = convert_message(message)\n",
    "Enc_message = Encrypting_message(message,Public_key)\n",
    "print(f'Encrypted message = {Enc_message}')"
   ]
  },
  {
   "cell_type": "markdown",
   "id": "6cd27fe3",
   "metadata": {},
   "source": [
    "(Reciever) can then decrypt the message using the private key he/she posseses. "
   ]
  },
  {
   "cell_type": "code",
   "execution_count": 201,
   "id": "33caea62",
   "metadata": {},
   "outputs": [
    {
     "name": "stdout",
     "output_type": "stream",
     "text": [
      "message = 413,\n",
      "\n",
      "Enc_message = 6024778523011705996295180595336499144819236561742670292619304214257812345861663544185166409389966005773971183776371359122826428940827726748791818242712646, \n",
      "\n",
      "Decryted message = 413, \n",
      "\n",
      "Is Message = Decrypted Message? True\n"
     ]
    }
   ],
   "source": [
    "# Receiver's Decryption of the message -\n",
    "def Decrypting_message(Enc_message,Private_key):\n",
    "    p = Private_key[1]\n",
    "    m = Private_key[0]\n",
    "    b = Enc_message\n",
    "    \n",
    "    return Modular_exponentiation(b,p,m)\n",
    "\n",
    "Dec_message = Decrypting_message(Enc_message,Private_key)\n",
    "print(f'message = {message},\\n\\nEnc_message = {Enc_message}, \\n\\nDecryted message = {Dec_message}, \\n\\nIs Message = Decrypted Message? {message==Dec_message}')"
   ]
  },
  {
   "cell_type": "markdown",
   "id": "b53f3279",
   "metadata": {},
   "source": [
    "And viola! we have the encryption-decryption scheme to share a key. \n",
    "\n",
    "But is it safe?? A few billion dollar question!\n",
    "\n",
    "Well, If in the process of transmission, ((eve)) intercepts the encrypted message, he/she still won't be able to decipher the message as he/she won't have the private key (Unless he/she can factorize n). Good thing is that decrypting this message, by factorization of n has no known efficient classical algorithm. The fastest known classical algorithm is known as the 'General Number Field Sieve'. Lets see an ihow fast it is -"
   ]
  },
  {
   "cell_type": "code",
   "execution_count": null,
   "id": "aaf8b60e",
   "metadata": {},
   "outputs": [],
   "source": []
  },
  {
   "cell_type": "markdown",
   "id": "4a2ae9ed",
   "metadata": {},
   "source": [
    "The algorithmic complexity of this classical algortithm is -\n",
    "$$O(N) = \\exp \\left(\\left((64/9)^{1/3}+o(1)\\right)\\left(\\log n\\right)^{1/3}\\left(\\log \\log n\\right)^{2/3}\\right)$$\n",
    "where the input size is \n",
    "\n",
    "As you can see its a very slow algorithm considereing that commercial grade RSA implementation involve 2048 bits. Hence, it would take these many iterations to factorize a 2048-bit number. Given the best computers right now are able to do "
   ]
  },
  {
   "cell_type": "code",
   "execution_count": 104,
   "id": "a406e01e",
   "metadata": {},
   "outputs": [
    {
     "data": {
      "image/png": "[encoded data removed]",
      "text/plain": [
       "<Figure size 432x288 with 1 Axes>"
      ]
     },
     "metadata": {
      "needs_background": "light"
     },
     "output_type": "display_data"
    }
   ],
   "source": [
    "def GNFS_complexity(n):\n",
    "    N = 2**n\n",
    "    O = math.e**((64/9)**(1/3)*((math.log(N))**(1/3))*((math.log(math.log(N)))**(2/3)))\n",
    "    return O\n",
    "\n",
    "y = []\n",
    "N = 512\n",
    "for n in range(1,N):\n",
    "    G = GNFS_complexity(n)\n",
    "    y.append(G)\n",
    "x = list(range(1,N))\n",
    "plt.plot(x,y,'.-')\n",
    "plt.show()"
   ]
  },
  {
   "cell_type": "markdown",
   "id": "6d7311ee",
   "metadata": {},
   "source": [
    "Fastest classical computer currently is the \"Frontier\" with the capacity of 2 quintillion(10^18) operations per second. It would take it - "
   ]
  },
  {
   "cell_type": "code",
   "execution_count": 147,
   "id": "4588737f",
   "metadata": {},
   "outputs": [
    {
     "data": {
      "image/png": "[encoded data removed]",
      "text/plain": [
       "<Figure size 720x864 with 2 Axes>"
      ]
     },
     "metadata": {
      "needs_background": "light"
     },
     "output_type": "display_data"
    }
   ],
   "source": [
    "def compute_time(speed, operations):\n",
    "    return operations/(speed*60*60*24*365)\n",
    "\n",
    "speed_mac = 2.8*10**12\n",
    "speed_Frontier = 2*10**18\n",
    "\n",
    "y_mac = []\n",
    "y_frontier = []\n",
    "N = 2048\n",
    "for o in range(1,N):\n",
    "    operations = GNFS_complexity(o)\n",
    "    y_mac.append(compute_time(speed_mac, operations))\n",
    "    y_frontier.append(compute_time(speed_Frontier, operations))\n",
    "    \n",
    "x = list(range(1,N))\n",
    "plt.figure(figsize=(10, 12))\n",
    "\n",
    "plt.subplot(2, 1, 1)\n",
    "plt.plot(x,y_mac,'.-r')\n",
    "plt.title(f\"operation time(years) for my laptop to compute factors of RSA-{N}\")\n",
    "plt.xlabel(\"Key size(bits)\")\n",
    "plt.ylabel(\"Compute time(yrs)\")\n",
    "\n",
    "plt.subplot(2, 1, 2)\n",
    "plt.plot(x,y_frontier,'.-g')\n",
    "plt.title(f\"operation time(years) for Frontier to compute factors of RSA-{N}\")\n",
    "plt.xlabel(\"Key size(bits)\")\n",
    "plt.ylabel(\"Compute time(yrs)\")\n",
    "\n",
    "plt.show()"
   ]
  },
  {
   "cell_type": "markdown",
   "id": "a4dce20f",
   "metadata": {},
   "source": [
    "So, you can see how slow the classical computers are for factorizing a sufficiently large key. But what if (eve) is extraordinarily smart and has built a Quantum computer?\n",
    "\n",
    "Then, he/she can implement shor's Algorithm to find the period of the modular exponentiation function - \n",
    "$$f_{x,n}(r) = x^r mod (n)$$\n",
    "This function is periodic with respect to r. And knowing this function's period allows us to factorize an integer super fast. "
   ]
  },
  {
   "cell_type": "code",
   "execution_count": null,
   "id": "a691809c",
   "metadata": {},
   "outputs": [],
   "source": [
    "So, classically, it is hopeless for a key distribution of a large size. Hence, we turn to Quantum Algorithms."
   ]
  },
  {
   "cell_type": "code",
   "execution_count": 239,
   "id": "46825bb3",
   "metadata": {},
   "outputs": [],
   "source": [
    "import functools\n",
    "import json\n",
    "import math\n",
    "import pandas as pd\n",
    "import pennylane as qml\n",
    "import pennylane.numpy as np\n",
    "import scipy\n",
    "import matplotlib.pyplot as plt\n",
    "import numpy as npo"
   ]
  },
  {
   "cell_type": "code",
   "execution_count": 259,
   "id": "4e93db7a",
   "metadata": {},
   "outputs": [
    {
     "data": {
      "image/png": "[encoded data removed]",
      "text/plain": [
       "<Figure size 1296x432 with 1 Axes>"
      ]
     },
     "metadata": {},
     "output_type": "display_data"
    }
   ],
   "source": [
    "def QFT(n):\n",
    "    dev = qml.device('default.qubit', wires = n)\n",
    "    \n",
    "    @qml.qnode(dev)\n",
    "    def circuit(n):\n",
    "        for k in range(n):\n",
    "            qml.Hadamard(k)\n",
    "            count=1\n",
    "            for i in range(k+1,n):\n",
    "                z = np.pi/(2**count)\n",
    "                qml.CRZ(z, wires = [i,k])\n",
    "                count+=1\n",
    "        \n",
    "        return qml.expval(qml.PauliZ(0))\n",
    "    \n",
    "    result = circuit(n)\n",
    "    \n",
    "    qml.drawer.use_style(\"black_white\")\n",
    "    fig, ax = qml.draw_mpl(circuit)(n)\n",
    "    plt.show()\n",
    "    \n",
    "qubit_num = 5\n",
    "QFT(qubit_num)"
   ]
  },
  {
   "cell_type": "markdown",
   "id": "23120f8a",
   "metadata": {},
   "source": [
    "There is a that the RZ shown here are actually - $$CRZ_k = \\begin{matrix}\n",
    "1 & 0 & 0 & 0\\\\\n",
    "0 & 1 & 0 & 0\\\\\n",
    "0 & 0 & 1 & 0\\\\\n",
    "0 & 0 & 0 & e^{\\frac{2\\pi i}{2^k}}\\\\\n",
    "\\end{matrix}$$"
   ]
  },
  {
   "cell_type": "code",
   "execution_count": null,
   "id": "504ed28a",
   "metadata": {},
   "outputs": [],
   "source": []
  },
  {
   "cell_type": "code",
   "execution_count": 232,
   "id": "eedf9ad6",
   "metadata": {},
   "outputs": [
    {
     "name": "stderr",
     "output_type": "stream",
     "text": [
      "/var/folders/l7/wngp29c52s1dglkg9_wnynqw0000gn/T/ipykernel_34085/2363544289.py:4: DeprecationWarning: Importation from qutip.qip.gates is deprecated.Please use e.g.\n",
      " from qutip.qip.operations import cnot\n",
      "\n",
      "  from qutip.qip.gates import snot, cphase, swap\n"
     ]
    }
   ],
   "source": [
    "import numpy as np\n",
    "import scipy.sparse as sp\n",
    "from qutip.qobj import *\n",
    "from qutip.qip.gates import snot, cphase, swap\n",
    "from qutip.qip.circuit import QubitCircuit"
   ]
  },
  {
   "cell_type": "code",
   "execution_count": 256,
   "id": "f2219d73",
   "metadata": {},
   "outputs": [
    {
     "data": {
      "text/latex": [
       "Quantum object: dims = [[2, 2, 2, 2, 2], [2, 2, 2, 2, 2]], shape = (32, 32), type = oper, isherm = False\\begin{equation*}\\left(\\begin{array}{*{11}c}0.177 & 0.177 & 0.177 & 0.177 & 0.177 & \\cdots & 0.177 & 0.177 & 0.177 & 0.177 & 0.177\\\\0.177 & (0.173+0.034j) & (0.163+0.068j) & (0.147+0.098j) & (0.125+0.125j) & \\cdots & (0.098-0.147j) & (0.125-0.125j) & (0.147-0.098j) & (0.163-0.068j) & (0.173-0.034j)\\\\0.177 & (0.163+0.068j) & (0.125+0.125j) & (0.068+0.163j) & 0.177j & \\cdots & (-0.068-0.163j) & -0.177j & (0.068-0.163j) & (0.125-0.125j) & (0.163-0.068j)\\\\0.177 & (0.147+0.098j) & (0.068+0.163j) & (-0.034+0.173j) & (-0.125+0.125j) & \\cdots & (-0.173-0.034j) & (-0.125-0.125j) & (-0.034-0.173j) & (0.068-0.163j) & (0.147-0.098j)\\\\0.177 & (0.125+0.125j) & 0.177j & (-0.125+0.125j) & -0.177 & \\cdots & (-0.125+0.125j) & -0.177 & (-0.125-0.125j) & -0.177j & (0.125-0.125j)\\\\\\vdots & \\vdots & \\vdots & \\vdots & \\vdots & \\ddots & \\vdots & \\vdots & \\vdots & \\vdots & \\vdots\\\\0.177 & (0.098-0.147j) & (-0.068-0.163j) & (-0.173-0.034j) & (-0.125+0.125j) & \\cdots & (0.034-0.173j) & (-0.125-0.125j) & (-0.173+0.034j) & (-0.068+0.163j) & (0.098+0.147j)\\\\0.177 & (0.125-0.125j) & -0.177j & (-0.125-0.125j) & -0.177 & \\cdots & (-0.125-0.125j) & -0.177 & (-0.125+0.125j) & 0.177j & (0.125+0.125j)\\\\0.177 & (0.147-0.098j) & (0.068-0.163j) & (-0.034-0.173j) & (-0.125-0.125j) & \\cdots & (-0.173+0.034j) & (-0.125+0.125j) & (-0.034+0.173j) & (0.068+0.163j) & (0.147+0.098j)\\\\0.177 & (0.163-0.068j) & (0.125-0.125j) & (0.068-0.163j) & -0.177j & \\cdots & (-0.068+0.163j) & 0.177j & (0.068+0.163j) & (0.125+0.125j) & (0.163+0.068j)\\\\0.177 & (0.173-0.034j) & (0.163-0.068j) & (0.147-0.098j) & (0.125-0.125j) & \\cdots & (0.098+0.147j) & (0.125+0.125j) & (0.147+0.098j) & (0.163+0.068j) & (0.173+0.034j)\\\\\\end{array}\\right)\\end{equation*}"
      ],
      "text/plain": [
       "Quantum object: dims = [[2, 2, 2, 2, 2], [2, 2, 2, 2, 2]], shape = (32, 32), type = oper, isherm = False\n",
       "Qobj data =\n",
       "[[ 0.1767767 +0.j          0.1767767 +0.j          0.1767767 +0.j\n",
       "  ...  0.1767767 +0.j          0.1767767 +0.j\n",
       "   0.1767767 +0.j        ]\n",
       " [ 0.1767767 +0.j          0.17337998+0.03448742j  0.16332037+0.06764951j\n",
       "  ...  0.14698445-0.09821187j  0.16332037-0.06764951j\n",
       "   0.17337998-0.03448742j]\n",
       " [ 0.1767767 +0.j          0.16332037+0.06764951j  0.125     +0.125j\n",
       "  ...  0.06764951-0.16332037j  0.125     -0.125j\n",
       "   0.16332037-0.06764951j]\n",
       " ...\n",
       " [ 0.1767767 +0.j          0.14698445-0.09821187j  0.06764951-0.16332037j\n",
       "  ... -0.03448742+0.17337998j  0.06764951+0.16332037j\n",
       "   0.14698445+0.09821187j]\n",
       " [ 0.1767767 +0.j          0.16332037-0.06764951j  0.125     -0.125j\n",
       "  ...  0.06764951+0.16332037j  0.125     +0.125j\n",
       "   0.16332037+0.06764951j]\n",
       " [ 0.1767767 +0.j          0.17337998-0.03448742j  0.16332037-0.06764951j\n",
       "  ...  0.14698445+0.09821187j  0.16332037+0.06764951j\n",
       "   0.17337998+0.03448742j]]"
      ]
     },
     "execution_count": 256,
     "metadata": {},
     "output_type": "execute_result"
    }
   ],
   "source": [
    "def qft(N=1):\n",
    "    \"\"\"\n",
    "    Quantum Fourier Transform operator on N qubits.\n",
    "\n",
    "    Parameters\n",
    "    ----------\n",
    "    N : int\n",
    "        Number of qubits.\n",
    "\n",
    "    Returns\n",
    "    -------\n",
    "    QFT: qobj\n",
    "        Quantum Fourier transform operator.\n",
    "\n",
    "    \"\"\"\n",
    "    if N < 1:\n",
    "        raise ValueError(\"Minimum value of N can be 1\")\n",
    "\n",
    "    N2 = 2 ** N\n",
    "    phase = 2.0j * np.pi / N2\n",
    "    arr = np.arange(N2)\n",
    "    L, M = np.meshgrid(arr, arr)\n",
    "    L = phase * (L * M)\n",
    "    L = np.exp(L)\n",
    "    dims = [[2] * N, [2] * N]\n",
    "    return Qobj(1.0 / np.sqrt(N2) * L, dims=dims)\n",
    "\n",
    "qft(qubit_num)"
   ]
  },
  {
   "cell_type": "markdown",
   "id": "5a43f4b1",
   "metadata": {},
   "source": [
    "Using this we can implement Shor's Algorithm"
   ]
  },
  {
   "cell_type": "code",
   "execution_count": null,
   "id": "5c1fb94f",
   "metadata": {},
   "outputs": [],
   "source": []
  }
 ],
 "metadata": {
  "kernelspec": {
   "display_name": "Python 3 (ipykernel)",
   "language": "python",
   "name": "python3"
  },
  "language_info": {
   "codemirror_mode": {
    "name": "ipython",
    "version": 3
   },
   "file_extension": ".py",
   "mimetype": "text/x-python",
   "name": "python",
   "nbconvert_exporter": "python",
   "pygments_lexer": "ipython3",
   "version": "3.9.7"
  }
 },
 "nbformat": 4,
 "nbformat_minor": 5
}
